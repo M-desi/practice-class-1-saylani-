{
 "cells": [
  {
   "cell_type": "code",
   "execution_count": 17,
   "metadata": {},
   "outputs": [
    {
     "output_type": "error",
     "ename": "Error",
     "evalue": "Jupyter cannot be started. Error attempting to locate jupyter: Data Science libraries jupyter and notebook are not installed in interpreter Python 3.8.2 64-bit.",
     "traceback": [
      "Error: Jupyter cannot be started. Error attempting to locate jupyter: Data Science libraries jupyter and notebook are not installed in interpreter Python 3.8.2 64-bit.",
      "at C.startServer (c:\\Users\\CCS\\.vscode\\extensions\\ms-python.python-2020.4.74986\\out\\client\\extension.js:75:829553)",
      "at async C.createServer (c:\\Users\\CCS\\.vscode\\extensions\\ms-python.python-2020.4.74986\\out\\client\\extension.js:75:828996)",
      "at async C.ensureServerAndNotebookImpl (c:\\Users\\CCS\\.vscode\\extensions\\ms-python.python-2020.4.74986\\out\\client\\extension.js:1:863926)",
      "at async C.ensureServerAndNotebook (c:\\Users\\CCS\\.vscode\\extensions\\ms-python.python-2020.4.74986\\out\\client\\extension.js:1:863616)",
      "at async C.clearResult (c:\\Users\\CCS\\.vscode\\extensions\\ms-python.python-2020.4.74986\\out\\client\\extension.js:1:859683)",
      "at async C.reexecuteCell (c:\\Users\\CCS\\.vscode\\extensions\\ms-python.python-2020.4.74986\\out\\client\\extension.js:1:847953)",
      "at async C.reexecuteCells (c:\\Users\\CCS\\.vscode\\extensions\\ms-python.python-2020.4.74986\\out\\client\\extension.js:1:845120)"
     ]
    }
   ],
   "source": [
    "\n",
    "print(\"Twinkle, twinkle, little star, \\n\\tHow I wonder what you are! \\n\\t\\tUp above the world so high, \\n\\t\\t Like a diamond in the sky. \\nTwinkle, twinkle, little star, \\n\\tHow I wonder what you are!\")"
   ]
  },
  {
   "cell_type": "code",
   "execution_count": 8,
   "metadata": {},
   "outputs": [
    {
     "name": "stdout",
     "output_type": "stream",
     "text": [
      "Python version\n",
      "3.7.1 (default, Dec 10 2018, 22:54:23) [MSC v.1915 64 bit (AMD64)]\n",
      "Version info.\n",
      "sys.version_info(major=3, minor=7, micro=1, releaselevel='final', serial=0)\n"
     ]
    }
   ],
   "source": [
    "#2. Python version which  are using.\n",
    "import sys\n",
    "print(\"Python version\")\n",
    "print (sys.version)\n",
    "print(\"Version info.\")\n",
    "print (sys.version_info)"
   ]
  },
  {
   "cell_type": "code",
   "execution_count": 9,
   "metadata": {},
   "outputs": [
    {
     "name": "stdout",
     "output_type": "stream",
     "text": [
      "Current Date and Time : 11-05-2019 00:12:13\n"
     ]
    }
   ],
   "source": [
    "#3.  display the current date and time.\n",
    "import datetime\n",
    "now = datetime.datetime.now()\n",
    "print (\"Current Date and Time : \" + \"\" + (now.strftime(\"%m-%d-%Y %H:%M:%S\")))\n"
   ]
  },
  {
   "cell_type": "code",
   "execution_count": 15,
   "metadata": {},
   "outputs": [
    {
     "name": "stdout",
     "output_type": "stream",
     "text": [
      "Enter radius of a circle 9\n",
      "Area of circle is 254.34\n"
     ]
    }
   ],
   "source": [
    "#4.... Write a Python program which accepts the radius of a circle from the user and compute the area.\n",
    "x=input(\"Enter radius of a circle \")\n",
    "r=int(x)\n",
    "a=3.14*r**2\n",
    "print(\"Area of circle is\", a)"
   ]
  },
  {
   "cell_type": "code",
   "execution_count": 14,
   "metadata": {},
   "outputs": [
    {
     "name": "stdout",
     "output_type": "stream",
     "text": [
      "Type your first name here : irfan\n",
      "Type your last name here : khan\n",
      "Hello khan irfan!\n"
     ]
    }
   ],
   "source": [
    "#5... Write a Python program which accepts the user's first and last name and print them in reverse order with a space between them.\n",
    "FirstName=input(\"Type your first name here : \")\n",
    "LastName=input(\"Type your last name here : \")\n",
    "print (\"Hello \" + LastName + \" \" + FirstName +\"!\")"
   ]
  },
  {
   "cell_type": "code",
   "execution_count": null,
   "metadata": {},
   "outputs": [],
   "source": [
    "#6... Write a python program which takes two inputs from user and print them addition.\n",
    "num1 = input('Enter first number: ')\n",
    "num2 = input('Enter second number: ')\n",
    "sum = float(num1) + float(num2)\n",
    "print('The sum of {0}and {1}is {2}'.format(num1, num2, sum))"
   ]
  }
 ],
 "metadata": {
  "kernelspec": {
   "display_name": "Python 3",
   "language": "python",
   "name": "python3"
  },
  "language_info": {
   "codemirror_mode": {
    "name": "ipython",
    "version": 3
   },
   "file_extension": ".py",
   "mimetype": "text/x-python",
   "name": "python",
   "nbconvert_exporter": "python",
   "pygments_lexer": "ipython3",
   "version": "3.7.1"
  }
 },
 "nbformat": 4,
 "nbformat_minor": 2
}